{
 "cells": [
  {
   "cell_type": "code",
   "execution_count": 6,
   "id": "b95a2f2e",
   "metadata": {},
   "outputs": [],
   "source": [
    "interger_number = 2"
   ]
  },
  {
   "cell_type": "code",
   "execution_count": 7,
   "id": "899b3805",
   "metadata": {},
   "outputs": [],
   "source": [
    "float_number = 2.0"
   ]
  },
  {
   "cell_type": "code",
   "execution_count": 3,
   "id": "9c4606b8",
   "metadata": {},
   "outputs": [],
   "source": [
    "example_string = 'Example'"
   ]
  },
  {
   "cell_type": "code",
   "execution_count": 8,
   "id": "7304fc22",
   "metadata": {},
   "outputs": [],
   "source": [
    "example_tuple = (1,2,3,4,5)"
   ]
  },
  {
   "cell_type": "code",
   "execution_count": 9,
   "id": "f2462a3a",
   "metadata": {},
   "outputs": [],
   "source": [
    "example_int_list = [1,2,3,4,5]"
   ]
  },
  {
   "cell_type": "code",
   "execution_count": 12,
   "id": "48a2ab7c",
   "metadata": {},
   "outputs": [],
   "source": [
    "example_dictionary = {'one' : 1, 'two' : 2, 'three' : 3, 'four' : 4}"
   ]
  },
  {
   "cell_type": "code",
   "execution_count": 13,
   "id": "7e522c32",
   "metadata": {},
   "outputs": [
    {
     "name": "stdout",
     "output_type": "stream",
     "text": [
      "2\n"
     ]
    }
   ],
   "source": [
    "print(interger_number)"
   ]
  },
  {
   "cell_type": "code",
   "execution_count": 14,
   "id": "93d3b5fc",
   "metadata": {},
   "outputs": [
    {
     "name": "stdout",
     "output_type": "stream",
     "text": [
      "2.0\n"
     ]
    }
   ],
   "source": [
    "print(float_number)"
   ]
  },
  {
   "cell_type": "code",
   "execution_count": 16,
   "id": "1b026215",
   "metadata": {},
   "outputs": [
    {
     "name": "stdout",
     "output_type": "stream",
     "text": [
      "Example\n"
     ]
    }
   ],
   "source": [
    "print(example_string)"
   ]
  },
  {
   "cell_type": "code",
   "execution_count": 17,
   "id": "4ca6916d",
   "metadata": {},
   "outputs": [
    {
     "name": "stdout",
     "output_type": "stream",
     "text": [
      "(1, 2, 3, 4, 5)\n"
     ]
    }
   ],
   "source": [
    "print(example_tuple)"
   ]
  },
  {
   "cell_type": "code",
   "execution_count": 18,
   "id": "b4d03db9",
   "metadata": {},
   "outputs": [
    {
     "name": "stdout",
     "output_type": "stream",
     "text": [
      "[1, 2, 3, 4, 5]\n"
     ]
    }
   ],
   "source": [
    "print(example_int_list)"
   ]
  },
  {
   "cell_type": "code",
   "execution_count": 19,
   "id": "410b4072",
   "metadata": {},
   "outputs": [
    {
     "name": "stdout",
     "output_type": "stream",
     "text": [
      "{'one': 1, 'two': 2, 'three': 3, 'four': 4}\n"
     ]
    }
   ],
   "source": [
    "print(example_dictionary)"
   ]
  },
  {
   "cell_type": "code",
   "execution_count": 20,
   "id": "139ba362",
   "metadata": {},
   "outputs": [
    {
     "data": {
      "text/plain": [
       "int"
      ]
     },
     "execution_count": 20,
     "metadata": {},
     "output_type": "execute_result"
    }
   ],
   "source": [
    "type(interger_number)"
   ]
  },
  {
   "cell_type": "code",
   "execution_count": 21,
   "id": "85ef4e54",
   "metadata": {},
   "outputs": [
    {
     "data": {
      "text/plain": [
       "float"
      ]
     },
     "execution_count": 21,
     "metadata": {},
     "output_type": "execute_result"
    }
   ],
   "source": [
    "type(float_number)"
   ]
  },
  {
   "cell_type": "code",
   "execution_count": 22,
   "id": "984240e5",
   "metadata": {},
   "outputs": [
    {
     "data": {
      "text/plain": [
       "str"
      ]
     },
     "execution_count": 22,
     "metadata": {},
     "output_type": "execute_result"
    }
   ],
   "source": [
    "type(example_string)"
   ]
  },
  {
   "cell_type": "code",
   "execution_count": 23,
   "id": "4ce4678b",
   "metadata": {},
   "outputs": [
    {
     "data": {
      "text/plain": [
       "tuple"
      ]
     },
     "execution_count": 23,
     "metadata": {},
     "output_type": "execute_result"
    }
   ],
   "source": [
    "type(example_tuple)"
   ]
  },
  {
   "cell_type": "code",
   "execution_count": 24,
   "id": "0d13bdf1",
   "metadata": {},
   "outputs": [
    {
     "data": {
      "text/plain": [
       "list"
      ]
     },
     "execution_count": 24,
     "metadata": {},
     "output_type": "execute_result"
    }
   ],
   "source": [
    "type(example_int_list)"
   ]
  },
  {
   "cell_type": "code",
   "execution_count": 26,
   "id": "5be7bd3f",
   "metadata": {},
   "outputs": [
    {
     "data": {
      "text/plain": [
       "dict"
      ]
     },
     "execution_count": 26,
     "metadata": {},
     "output_type": "execute_result"
    }
   ],
   "source": [
    "type(example_dictionary)"
   ]
  },
  {
   "cell_type": "code",
   "execution_count": 27,
   "id": "61d4a8e6",
   "metadata": {},
   "outputs": [
    {
     "data": {
      "text/plain": [
       "2"
      ]
     },
     "execution_count": 27,
     "metadata": {},
     "output_type": "execute_result"
    }
   ],
   "source": [
    "int(float_number)"
   ]
  },
  {
   "cell_type": "code",
   "execution_count": 29,
   "id": "e45ad18e",
   "metadata": {},
   "outputs": [
    {
     "data": {
      "text/plain": [
       "2.0"
      ]
     },
     "execution_count": 29,
     "metadata": {},
     "output_type": "execute_result"
    }
   ],
   "source": [
    "float(interger_number)"
   ]
  },
  {
   "cell_type": "code",
   "execution_count": 30,
   "id": "c0443f94",
   "metadata": {},
   "outputs": [
    {
     "ename": "ValueError",
     "evalue": "invalid literal for int() with base 10: '2.0'",
     "output_type": "error",
     "traceback": [
      "\u001b[1;31m---------------------------------------------------------------------------\u001b[0m",
      "\u001b[1;31mValueError\u001b[0m                                Traceback (most recent call last)",
      "\u001b[1;32m~\\AppData\\Local\\Temp\\ipykernel_1968\\2521216723.py\u001b[0m in \u001b[0;36m<module>\u001b[1;34m\u001b[0m\n\u001b[1;32m----> 1\u001b[1;33m \u001b[0mint\u001b[0m\u001b[1;33m(\u001b[0m\u001b[1;34m'2.0'\u001b[0m\u001b[1;33m)\u001b[0m\u001b[1;33m\u001b[0m\u001b[1;33m\u001b[0m\u001b[0m\n\u001b[0m",
      "\u001b[1;31mValueError\u001b[0m: invalid literal for int() with base 10: '2.0'"
     ]
    }
   ],
   "source": [
    "int('2.0')"
   ]
  },
  {
   "cell_type": "code",
   "execution_count": 31,
   "id": "78a77a0c",
   "metadata": {},
   "outputs": [
    {
     "data": {
      "text/plain": [
       "2"
      ]
     },
     "execution_count": 31,
     "metadata": {},
     "output_type": "execute_result"
    }
   ],
   "source": [
    "int('2')"
   ]
  },
  {
   "cell_type": "code",
   "execution_count": 32,
   "id": "307df1c8",
   "metadata": {},
   "outputs": [
    {
     "data": {
      "text/plain": [
       "2.0"
      ]
     },
     "execution_count": 32,
     "metadata": {},
     "output_type": "execute_result"
    }
   ],
   "source": [
    "float('2.0')"
   ]
  },
  {
   "cell_type": "code",
   "execution_count": 33,
   "id": "431b53f2",
   "metadata": {},
   "outputs": [
    {
     "data": {
      "text/plain": [
       "'1'"
      ]
     },
     "execution_count": 33,
     "metadata": {},
     "output_type": "execute_result"
    }
   ],
   "source": [
    "str(1)"
   ]
  },
  {
   "cell_type": "code",
   "execution_count": 34,
   "id": "85cc3a03",
   "metadata": {},
   "outputs": [],
   "source": [
    "name = 'Alex Hoffman'"
   ]
  },
  {
   "cell_type": "code",
   "execution_count": 35,
   "id": "c7d2c7b8",
   "metadata": {},
   "outputs": [
    {
     "data": {
      "text/plain": [
       "'ALEX HOFFMAN'"
      ]
     },
     "execution_count": 35,
     "metadata": {},
     "output_type": "execute_result"
    }
   ],
   "source": [
    "name.upper()"
   ]
  },
  {
   "cell_type": "code",
   "execution_count": 36,
   "id": "a0679c1c",
   "metadata": {},
   "outputs": [
    {
     "name": "stdout",
     "output_type": "stream",
     "text": [
      "Alex Hoffman\n"
     ]
    }
   ],
   "source": [
    "print(name)"
   ]
  },
  {
   "cell_type": "code",
   "execution_count": 38,
   "id": "26854b96",
   "metadata": {},
   "outputs": [],
   "source": [
    "name_upper_case = name.upper"
   ]
  },
  {
   "cell_type": "code",
   "execution_count": 39,
   "id": "526250a2",
   "metadata": {},
   "outputs": [],
   "source": [
    "name_list = ['Alex', 'Dave', 'Joe']"
   ]
  },
  {
   "cell_type": "code",
   "execution_count": 40,
   "id": "8e171780",
   "metadata": {},
   "outputs": [],
   "source": [
    "name_list.reverse()"
   ]
  },
  {
   "cell_type": "code",
   "execution_count": 41,
   "id": "39051189",
   "metadata": {},
   "outputs": [
    {
     "name": "stdout",
     "output_type": "stream",
     "text": [
      "['Joe', 'Dave', 'Alex']\n"
     ]
    }
   ],
   "source": [
    "print(name_list)"
   ]
  },
  {
   "cell_type": "code",
   "execution_count": 42,
   "id": "99ef88a4",
   "metadata": {},
   "outputs": [
    {
     "data": {
      "text/plain": [
       "7"
      ]
     },
     "execution_count": 42,
     "metadata": {},
     "output_type": "execute_result"
    }
   ],
   "source": [
    "len(example_string)"
   ]
  },
  {
   "cell_type": "code",
   "execution_count": 43,
   "id": "96b33db1",
   "metadata": {},
   "outputs": [
    {
     "data": {
      "text/plain": [
       "5"
      ]
     },
     "execution_count": 43,
     "metadata": {},
     "output_type": "execute_result"
    }
   ],
   "source": [
    "len(example_tuple)"
   ]
  },
  {
   "cell_type": "code",
   "execution_count": 46,
   "id": "782aa538",
   "metadata": {},
   "outputs": [
    {
     "data": {
      "text/plain": [
       "3"
      ]
     },
     "execution_count": 46,
     "metadata": {},
     "output_type": "execute_result"
    }
   ],
   "source": [
    "len(name_list)"
   ]
  },
  {
   "cell_type": "code",
   "execution_count": 47,
   "id": "b19585ef",
   "metadata": {},
   "outputs": [],
   "source": [
    "example_string = 'Hello World'"
   ]
  },
  {
   "cell_type": "code",
   "execution_count": 48,
   "id": "298eaf4a",
   "metadata": {},
   "outputs": [],
   "source": [
    "example_tuple = (1,2,3,4,5,6)"
   ]
  },
  {
   "cell_type": "code",
   "execution_count": 50,
   "id": "9ed9f54c",
   "metadata": {},
   "outputs": [
    {
     "name": "stdout",
     "output_type": "stream",
     "text": [
      "l\n"
     ]
    }
   ],
   "source": [
    "print(example_string[3])"
   ]
  },
  {
   "cell_type": "code",
   "execution_count": 51,
   "id": "e736b26c",
   "metadata": {},
   "outputs": [
    {
     "name": "stdout",
     "output_type": "stream",
     "text": [
      "2\n"
     ]
    }
   ],
   "source": [
    "print(example_tuple[1])"
   ]
  },
  {
   "cell_type": "code",
   "execution_count": 55,
   "id": "af7ca542",
   "metadata": {},
   "outputs": [
    {
     "name": "stdout",
     "output_type": "stream",
     "text": [
      "f\n"
     ]
    }
   ],
   "source": [
    "print(name[7])"
   ]
  },
  {
   "cell_type": "code",
   "execution_count": 56,
   "id": "91b66ba1",
   "metadata": {},
   "outputs": [
    {
     "name": "stdout",
     "output_type": "stream",
     "text": [
      "5\n"
     ]
    }
   ],
   "source": [
    "print(example_tuple[4])"
   ]
  },
  {
   "cell_type": "code",
   "execution_count": 57,
   "id": "fdc8e671",
   "metadata": {},
   "outputs": [
    {
     "name": "stdout",
     "output_type": "stream",
     "text": [
      "Alex\n"
     ]
    }
   ],
   "source": [
    "print(name_list[2])"
   ]
  },
  {
   "cell_type": "code",
   "execution_count": 60,
   "id": "4ab7f9a3",
   "metadata": {},
   "outputs": [],
   "source": [
    "my_dict = {\"Hello\" : 'Hi', \"Seven\" : \"7\", \"Joe\" : \"Mama\"}"
   ]
  },
  {
   "cell_type": "code",
   "execution_count": 61,
   "id": "84385ecb",
   "metadata": {},
   "outputs": [
    {
     "data": {
      "text/plain": [
       "3"
      ]
     },
     "execution_count": 61,
     "metadata": {},
     "output_type": "execute_result"
    }
   ],
   "source": [
    "len(my_dict)"
   ]
  },
  {
   "cell_type": "code",
   "execution_count": 62,
   "id": "580e0ce6",
   "metadata": {},
   "outputs": [
    {
     "data": {
      "text/plain": [
       "'Hi'"
      ]
     },
     "execution_count": 62,
     "metadata": {},
     "output_type": "execute_result"
    }
   ],
   "source": [
    "my_dict[\"Hello\"]"
   ]
  },
  {
   "cell_type": "markdown",
   "id": "b9071933",
   "metadata": {},
   "source": [
    "I'm supposed to type something here"
   ]
  },
  {
   "cell_type": "code",
   "execution_count": 63,
   "id": "77c8b105",
   "metadata": {},
   "outputs": [],
   "source": [
    "Variable1 = 'Vijaya Yeruva'"
   ]
  },
  {
   "cell_type": "code",
   "execution_count": 64,
   "id": "f51bad55",
   "metadata": {},
   "outputs": [
    {
     "data": {
      "text/plain": [
       "13"
      ]
     },
     "execution_count": 64,
     "metadata": {},
     "output_type": "execute_result"
    }
   ],
   "source": [
    "len(Variable1)"
   ]
  },
  {
   "cell_type": "code",
   "execution_count": 65,
   "id": "27574988",
   "metadata": {},
   "outputs": [],
   "source": [
    "Variable2 = ['Python', 'Machine Learning', 'Deep Learning']"
   ]
  },
  {
   "cell_type": "code",
   "execution_count": 66,
   "id": "988f7ab6",
   "metadata": {},
   "outputs": [
    {
     "data": {
      "text/plain": [
       "3"
      ]
     },
     "execution_count": 66,
     "metadata": {},
     "output_type": "execute_result"
    }
   ],
   "source": [
    "len(Variable2)"
   ]
  },
  {
   "cell_type": "code",
   "execution_count": 67,
   "id": "9417404f",
   "metadata": {},
   "outputs": [],
   "source": [
    "Variable3 = (4,9,16,25)"
   ]
  },
  {
   "cell_type": "code",
   "execution_count": 68,
   "id": "fcc8e91d",
   "metadata": {},
   "outputs": [
    {
     "data": {
      "text/plain": [
       "4"
      ]
     },
     "execution_count": 68,
     "metadata": {},
     "output_type": "execute_result"
    }
   ],
   "source": [
    "len(Variable3)"
   ]
  },
  {
   "cell_type": "code",
   "execution_count": 69,
   "id": "48a3119b",
   "metadata": {},
   "outputs": [],
   "source": [
    "Variable4 = [2.0, 3.0, 5.0, 7.0, 11.0]"
   ]
  },
  {
   "cell_type": "code",
   "execution_count": 70,
   "id": "c0a94fe1",
   "metadata": {},
   "outputs": [
    {
     "data": {
      "text/plain": [
       "5"
      ]
     },
     "execution_count": 70,
     "metadata": {},
     "output_type": "execute_result"
    }
   ],
   "source": [
    "len(Variable4)"
   ]
  },
  {
   "cell_type": "code",
   "execution_count": 71,
   "id": "caa7603c",
   "metadata": {},
   "outputs": [],
   "source": [
    "Variable5 = {'key1': 65537, 'key2': 1729, 'key3': 1806}"
   ]
  },
  {
   "cell_type": "code",
   "execution_count": 72,
   "id": "125ff476",
   "metadata": {},
   "outputs": [
    {
     "data": {
      "text/plain": [
       "3"
      ]
     },
     "execution_count": 72,
     "metadata": {},
     "output_type": "execute_result"
    }
   ],
   "source": [
    "len(Variable5)"
   ]
  },
  {
   "cell_type": "code",
   "execution_count": 73,
   "id": "757dd194",
   "metadata": {},
   "outputs": [],
   "source": [
    "Variable6 = {'key1': 3.1415, 'key2': 2.68545, 'key3': 1.61803}"
   ]
  },
  {
   "cell_type": "code",
   "execution_count": 74,
   "id": "5ce032b6",
   "metadata": {},
   "outputs": [
    {
     "data": {
      "text/plain": [
       "3"
      ]
     },
     "execution_count": 74,
     "metadata": {},
     "output_type": "execute_result"
    }
   ],
   "source": [
    "len(Variable6)"
   ]
  },
  {
   "cell_type": "code",
   "execution_count": 75,
   "id": "cfbfa74e",
   "metadata": {},
   "outputs": [],
   "source": [
    "Variable7 = {1: 'Jaime', 2: 'Jack', 3:'Joey'}"
   ]
  },
  {
   "cell_type": "code",
   "execution_count": 76,
   "id": "4703d856",
   "metadata": {},
   "outputs": [
    {
     "data": {
      "text/plain": [
       "3"
      ]
     },
     "execution_count": 76,
     "metadata": {},
     "output_type": "execute_result"
    }
   ],
   "source": [
    "len(Variable7)"
   ]
  },
  {
   "cell_type": "code",
   "execution_count": 77,
   "id": "c209bffc",
   "metadata": {},
   "outputs": [],
   "source": [
    "Variable8 = {1:['Jaime', 'Jack', 'Joey'], 2:['Deo', 'Katie', 'Lauren'], 3:['Mustafa', 'Luke', 'M']}"
   ]
  },
  {
   "cell_type": "code",
   "execution_count": 78,
   "id": "f5d1f55a",
   "metadata": {},
   "outputs": [
    {
     "data": {
      "text/plain": [
       "3"
      ]
     },
     "execution_count": 78,
     "metadata": {},
     "output_type": "execute_result"
    }
   ],
   "source": [
    "len(Variable8)"
   ]
  },
  {
   "cell_type": "code",
   "execution_count": 81,
   "id": "ce0cd28d",
   "metadata": {},
   "outputs": [
    {
     "name": "stdout",
     "output_type": "stream",
     "text": [
      "Name is Correct\n"
     ]
    }
   ],
   "source": [
    "if name == \"Alex Hoffman\":\n",
    "    print(\"Name is Correct\")\n"
   ]
  },
  {
   "cell_type": "code",
   "execution_count": 86,
   "id": "b55674f8",
   "metadata": {},
   "outputs": [
    {
     "name": "stdout",
     "output_type": "stream",
     "text": [
      "Name Not Found\n"
     ]
    }
   ],
   "source": [
    "if name == \"Joey Bob\":\n",
    "    print(\"Name is Joey\")\n",
    "elif name == \"Bob the Builder\":\n",
    "    print(\"Name is Bob\")\n",
    "else:\n",
    "    print(\"Name Not Found\")"
   ]
  },
  {
   "cell_type": "code",
   "execution_count": 88,
   "id": "32c12400",
   "metadata": {},
   "outputs": [
    {
     "name": "stdout",
     "output_type": "stream",
     "text": [
      "A\n",
      "l\n",
      "e\n",
      "x\n"
     ]
    }
   ],
   "source": [
    "for each_iteration in [0,1,2,3]:\n",
    "    print(name[each_iteration])\n",
    "    if (name[each_iteration] == \"\"):\n",
    "        break"
   ]
  },
  {
   "cell_type": "code",
   "execution_count": 89,
   "id": "c1b9593c",
   "metadata": {},
   "outputs": [
    {
     "name": "stdout",
     "output_type": "stream",
     "text": [
      "A\n",
      "l\n",
      "e\n",
      "x\n",
      " \n",
      "H\n",
      "o\n",
      "f\n",
      "f\n",
      "m\n",
      "a\n",
      "n\n"
     ]
    }
   ],
   "source": [
    "c = 0\n",
    "while (c < 12):\n",
    "    print(name[c])\n",
    "    c = c + 1"
   ]
  },
  {
   "cell_type": "code",
   "execution_count": 90,
   "id": "5fcf26f3",
   "metadata": {},
   "outputs": [],
   "source": [
    "def print_name():\n",
    "    print('My name is ' + name)\n",
    "    return"
   ]
  },
  {
   "cell_type": "code",
   "execution_count": 91,
   "id": "8f8683db",
   "metadata": {},
   "outputs": [
    {
     "name": "stdout",
     "output_type": "stream",
     "text": [
      "My name is Alex Hoffman\n"
     ]
    }
   ],
   "source": [
    "print_name()"
   ]
  },
  {
   "cell_type": "code",
   "execution_count": 102,
   "id": "925a68c0",
   "metadata": {},
   "outputs": [],
   "source": [
    "def find_hypotenuse(side_a, side_b):\n",
    "    import numpy as np\n",
    "    hypotenuse = np.sqrt((side_a**2) + (side_b**2))\n",
    "    return hypotenuse"
   ]
  },
  {
   "cell_type": "code",
   "execution_count": 99,
   "id": "801e3040",
   "metadata": {},
   "outputs": [],
   "source": [
    "triangle_side_a = 3.0"
   ]
  },
  {
   "cell_type": "code",
   "execution_count": 100,
   "id": "319ef50f",
   "metadata": {},
   "outputs": [],
   "source": [
    "triangle_side_b = 4.0"
   ]
  },
  {
   "cell_type": "code",
   "execution_count": 104,
   "id": "b9b8a72d",
   "metadata": {},
   "outputs": [],
   "source": [
    "hypotenuse = find_hypotenuse(triangle_side_a, triangle_side_b)"
   ]
  },
  {
   "cell_type": "code",
   "execution_count": 105,
   "id": "1ecf9dfa",
   "metadata": {},
   "outputs": [
    {
     "name": "stdout",
     "output_type": "stream",
     "text": [
      "5.0\n"
     ]
    }
   ],
   "source": [
    "print(hypotenuse)"
   ]
  },
  {
   "cell_type": "code",
   "execution_count": 107,
   "id": "fbed745c",
   "metadata": {},
   "outputs": [
    {
     "name": "stdout",
     "output_type": "stream",
     "text": [
      "My name is Alex Hoffman\n",
      "My name is Alex Hoffman\n",
      "My name is Alex Hoffman\n",
      "My name is Alex Hoffman\n",
      "My name is Alex Hoffman\n",
      "My name is Alex Hoffman\n",
      "My name is Alex Hoffman\n",
      "My name is Alex Hoffman\n",
      "My name is Alex Hoffman\n",
      "My name is Alex Hoffman\n"
     ]
    }
   ],
   "source": [
    "for n in range(10):\n",
    "    print_name()"
   ]
  },
  {
   "cell_type": "code",
   "execution_count": 109,
   "id": "5d44d0d8",
   "metadata": {},
   "outputs": [],
   "source": [
    "def find_area_of_triangle(base, height):\n",
    "    area = (base * height) / 2.0\n",
    "    return area"
   ]
  },
  {
   "cell_type": "code",
   "execution_count": 110,
   "id": "30444d5d",
   "metadata": {},
   "outputs": [],
   "source": [
    "def compute_triangle_properties(sA, sB):\n",
    "    hyp = find_hypotenuse(sA, sB)\n",
    "    A = find_area_of_triangle(sA, sB)\n",
    "    return hyp, A"
   ]
  },
  {
   "cell_type": "code",
   "execution_count": 111,
   "id": "db34c05e",
   "metadata": {},
   "outputs": [],
   "source": [
    "hypotenuse, tri_area = compute_triangle_properties(triangle_a, triangle_b)"
   ]
  },
  {
   "cell_type": "code",
   "execution_count": 113,
   "id": "2004d7ac",
   "metadata": {},
   "outputs": [
    {
     "name": "stdout",
     "output_type": "stream",
     "text": [
      "5.0\n"
     ]
    }
   ],
   "source": [
    "print(hypotenuse)"
   ]
  },
  {
   "cell_type": "code",
   "execution_count": 114,
   "id": "e57b3968",
   "metadata": {},
   "outputs": [
    {
     "name": "stdout",
     "output_type": "stream",
     "text": [
      "6.0\n"
     ]
    }
   ],
   "source": [
    "print(tri_area)"
   ]
  },
  {
   "cell_type": "code",
   "execution_count": 129,
   "id": "38c5eca8",
   "metadata": {},
   "outputs": [],
   "source": [
    "def find_eucildean_distance(x, y):\n",
    "    e_distance = 0\n",
    "    base1 = 0\n",
    "    base2= 0\n",
    "    if (x[0] < y[0]):\n",
    "        base1 = y[0] - x[0]\n",
    "    else:\n",
    "        base1 = x[0] - y[0]\n",
    "    \n",
    "    if (x[1] < y[1]):\n",
    "        base1 = y[1] - x[1]\n",
    "    else:\n",
    "        base2 = x[1] - y[1]\n",
    "        \n",
    "    e_distance = find_hypotenuse(base1, base2)\n",
    "        \n",
    "    return e_distance"
   ]
  },
  {
   "cell_type": "code",
   "execution_count": 116,
   "id": "b5042266",
   "metadata": {},
   "outputs": [],
   "source": [
    "point_a = (1,2)"
   ]
  },
  {
   "cell_type": "code",
   "execution_count": 117,
   "id": "59549e9c",
   "metadata": {},
   "outputs": [],
   "source": [
    "point_b = (2,4)"
   ]
  },
  {
   "cell_type": "code",
   "execution_count": 124,
   "id": "3597da35",
   "metadata": {},
   "outputs": [],
   "source": [
    "distance = find_eucildean_distance(point_a, point_b)"
   ]
  },
  {
   "cell_type": "code",
   "execution_count": 130,
   "id": "110537cc",
   "metadata": {},
   "outputs": [
    {
     "name": "stdout",
     "output_type": "stream",
     "text": [
      "2.0\n"
     ]
    }
   ],
   "source": [
    "print(distance)"
   ]
  },
  {
   "cell_type": "code",
   "execution_count": 136,
   "id": "188f5d3b",
   "metadata": {},
   "outputs": [],
   "source": [
    "def find_circle_area(r):\n",
    "    import numpy as np\n",
    "    c_area = 0.0\n",
    "    c_area = (r**2) * np.pi\n",
    "    return c_area"
   ]
  },
  {
   "cell_type": "code",
   "execution_count": 132,
   "id": "9be51c11",
   "metadata": {},
   "outputs": [],
   "source": [
    "radius = 5.0"
   ]
  },
  {
   "cell_type": "code",
   "execution_count": 137,
   "id": "5d8326bc",
   "metadata": {},
   "outputs": [],
   "source": [
    "circleArea = find_circle_area(radius)"
   ]
  },
  {
   "cell_type": "code",
   "execution_count": 138,
   "id": "37f4651f",
   "metadata": {},
   "outputs": [
    {
     "name": "stdout",
     "output_type": "stream",
     "text": [
      "78.53981633974483\n"
     ]
    }
   ],
   "source": [
    "print(circleArea)"
   ]
  },
  {
   "cell_type": "code",
   "execution_count": 186,
   "id": "1472277d",
   "metadata": {},
   "outputs": [],
   "source": [
    "def find_square_of_dict_values (myDict):\n",
    "    myDict_square = {}\n",
    "    l = len(myDict)\n",
    "    c = 0\n",
    "    my_list = ('one', 'two', 'three','four','five')\n",
    "    for i in range(1, l+1):\n",
    "        myDict[my_list[c]] = i**2 \n",
    "        c = c+1\n",
    "        print(myDict)\n",
    "    myDict_square.update(myDict)\n",
    "    return myDict_square"
   ]
  },
  {
   "cell_type": "code",
   "execution_count": 189,
   "id": "e93de86b",
   "metadata": {},
   "outputs": [],
   "source": [
    "myDict = {'one' : 1, 'two' : 2, 'three' : 3, 'four' : 4, 'five' : 5}"
   ]
  },
  {
   "cell_type": "code",
   "execution_count": 190,
   "id": "ed9387c3",
   "metadata": {},
   "outputs": [
    {
     "name": "stdout",
     "output_type": "stream",
     "text": [
      "{'one': 1, 'two': 2, 'three': 3, 'four': 4, 'five': 5}\n",
      "{'one': 1, 'two': 4, 'three': 3, 'four': 4, 'five': 5}\n",
      "{'one': 1, 'two': 4, 'three': 9, 'four': 4, 'five': 5}\n",
      "{'one': 1, 'two': 4, 'three': 9, 'four': 16, 'five': 5}\n",
      "{'one': 1, 'two': 4, 'three': 9, 'four': 16, 'five': 25}\n"
     ]
    }
   ],
   "source": [
    "myDict_square = find_square_of_dict_values(myDict)"
   ]
  },
  {
   "cell_type": "code",
   "execution_count": 191,
   "id": "68b2a469",
   "metadata": {},
   "outputs": [
    {
     "name": "stdout",
     "output_type": "stream",
     "text": [
      "{'one': 1, 'two': 4, 'three': 9, 'four': 16, 'five': 25}\n"
     ]
    }
   ],
   "source": [
    "print(myDict_square)"
   ]
  },
  {
   "cell_type": "code",
   "execution_count": null,
   "id": "d94c9bbc",
   "metadata": {},
   "outputs": [],
   "source": []
  }
 ],
 "metadata": {
  "kernelspec": {
   "display_name": "Python 3 (ipykernel)",
   "language": "python",
   "name": "python3"
  },
  "language_info": {
   "codemirror_mode": {
    "name": "ipython",
    "version": 3
   },
   "file_extension": ".py",
   "mimetype": "text/x-python",
   "name": "python",
   "nbconvert_exporter": "python",
   "pygments_lexer": "ipython3",
   "version": "3.9.13"
  }
 },
 "nbformat": 4,
 "nbformat_minor": 5
}
